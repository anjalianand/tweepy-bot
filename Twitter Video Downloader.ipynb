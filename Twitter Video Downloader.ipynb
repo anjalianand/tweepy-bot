{
 "cells": [
  {
   "cell_type": "code",
   "execution_count": 1,
   "metadata": {},
   "outputs": [],
   "source": [
    "#Import Tweepy-Python Library for interacting with Twitter API\n",
    "import tweepy"
   ]
  },
  {
   "cell_type": "code",
   "execution_count": 2,
   "metadata": {},
   "outputs": [],
   "source": [
    "#Generate API_KEY, API_SECRET_KEY, ACCESS_TOKEN_KEY, ACCESS_TOKEN_SECRET_KEY from https://developer.twitter.com/\n",
    "import keys\n",
    "API_KEY = keys.api_key\n",
    "API_SECRET_KEY = keys.api_secret_key\n",
    "ACCESS_TOKEN_KEY = keys.access_token\n",
    "ACCESS_TOKEN_SECRET_KEY = keys.access_token_secret"
   ]
  },
  {
   "cell_type": "code",
   "execution_count": 3,
   "metadata": {},
   "outputs": [
    {
     "name": "stdout",
     "output_type": "stream",
     "text": [
      "Authentication Done\n"
     ]
    }
   ],
   "source": [
    "#Twitter API Authentication \n",
    "auth = tweepy.OAuthHandler(API_KEY, API_SECRET_KEY)\n",
    "auth.set_access_token(ACCESS_TOKEN_KEY, ACCESS_TOKEN_SECRET_KEY)\n",
    "api = tweepy.API(auth, wait_on_rate_limit= True, wait_on_rate_limit_notify= True)\n",
    "auth_boolean =  False \n",
    "try:\n",
    "    api.verify_credentials()\n",
    "    auth_boolean = True\n",
    "    print('Authentication Done')\n",
    "except:\n",
    "\n",
    "    print('Error during Authentication')"
   ]
  },
  {
   "cell_type": "code",
   "execution_count": 5,
   "metadata": {},
   "outputs": [],
   "source": [
    "last_tweet_id = api.mentions_timeline()[-1].id #Reference to next entry point"
   ]
  },
  {
   "cell_type": "code",
   "execution_count": 6,
   "metadata": {},
   "outputs": [
    {
     "name": "stdout",
     "output_type": "stream",
     "text": [
      "Total Replies 16\n",
      "Last Tweet Id 1283338907602399232\n"
     ]
    }
   ],
   "source": [
    "counter = 0 #Number of replies by this TweepyBot\n",
    "\n",
    "if auth_boolean:\n",
    "    #Loop through all mentioned tweets\n",
    "    for tweet in api.mentions_timeline(since_id = last_tweet_id):\n",
    "        if counter == 0:\n",
    "            last_tweet_id = tweet.id #Store entry tweet ID\n",
    "        counter += 1\n",
    "        \n",
    "        try:\n",
    "            mention_tweet_id, video_tweet_id, mention_username  = tweet.id, tweet.in_reply_to_status_id, tweet.user.screen_name\n",
    "            #Extracting link of video \n",
    "            video_tweet = api.get_status(video_tweet_id, tweet_mode = 'extended')\n",
    "            \n",
    "            if video_tweet.is_quote_status:\n",
    "                entities = video_tweet.quoted_status.extended_entities\n",
    "            else:\n",
    "                entities= video_tweet.extended_entities\n",
    "                \n",
    "            urls = entities['media'][0]['video_info']['variants']\n",
    "            url_list= [ urls[i]['url'] for i in range(len(urls)) ]\n",
    "\n",
    "            msg = \"Hey @\" + mention_username + \" !! Checkout : \\n\" \n",
    "            #Check for mp4 videos\n",
    "            for obj in urls:\n",
    "                if obj['url'][-10:-7] == 'mp4':\n",
    "                    #Extract URL\n",
    "                    url = obj['url']\n",
    "                    splited_url = url.split('/')\n",
    "                    #Extract Video Quality\n",
    "                    video_quality = splited_url[-2]\n",
    "                    #Add video quality and url to msg\n",
    "                    msg = msg + video_quality + ' : '+  url+ '\\n'\n",
    "                    \n",
    "            #Reply to the mentioned tweet with msg\n",
    "            api.update_status(status= msg, in_reply_to_status_id = mention_tweet_id)\n",
    "        except:\n",
    "            error_msg = \"Something went wrong :( Try again.\"\n",
    "            api.update_status(status= error_msg, in_reply_to_status_id = mention_tweet_id)\n",
    "            pass\n",
    "        \n",
    "print('Total Replies' , counter)\n",
    "print('Last Tweet Id', last_tweet_id)"
   ]
  }
 ],
 "metadata": {
  "kernelspec": {
   "display_name": "Python 3",
   "language": "python",
   "name": "python3"
  },
  "language_info": {
   "codemirror_mode": {
    "name": "ipython",
    "version": 3
   },
   "file_extension": ".py",
   "mimetype": "text/x-python",
   "name": "python",
   "nbconvert_exporter": "python",
   "pygments_lexer": "ipython3",
   "version": "3.6.5"
  }
 },
 "nbformat": 4,
 "nbformat_minor": 2
}
